{
 "cells": [
  {
   "cell_type": "markdown",
   "metadata": {},
   "source": [
    "# BOJ Helper"
   ]
  },
  {
   "cell_type": "code",
   "execution_count": null,
   "metadata": {},
   "outputs": [],
   "source": [
    "import os\n",
    "import subprocess\n",
    "import time\n",
    "import webbrowser\n",
    "import requests\n",
    "from bs4 import BeautifulSoup\n",
    "import pandas as pd\n",
    "import pyperclip\n",
    "from IPython.display import display, HTML\n",
    "import ipywidgets as widgets"
   ]
  },
  {
   "cell_type": "markdown",
   "metadata": {},
   "source": [
    "<!-- margin -->"
   ]
  },
  {
   "cell_type": "code",
   "execution_count": null,
   "metadata": {},
   "outputs": [],
   "source": [
    "problem_id = 1000"
   ]
  },
  {
   "cell_type": "code",
   "execution_count": null,
   "metadata": {},
   "outputs": [],
   "source": [
    "copy_source = True\n",
    "automatic_backup = True"
   ]
  },
  {
   "cell_type": "code",
   "execution_count": null,
   "metadata": {},
   "outputs": [],
   "source": [
    "problem_url = f'https://www.acmicpc.net/problem/{problem_id}'\n",
    "submit_url = f'https://www.acmicpc.net/submit/{problem_id}'"
   ]
  },
  {
   "cell_type": "code",
   "execution_count": null,
   "metadata": {},
   "outputs": [],
   "source": [
    "source_path = '.\\\\Project\\\\BOJ\\\\Source.cpp'\n",
    "backup_path = {\n",
    "    'source': f'.\\\\Backup\\\\Sources\\\\{problem_id}.cpp',\n",
    "    'build': f'.\\\\Backup\\\\Builds\\\\{problem_id}.exe',\n",
    "}\n",
    "build_path = '.\\\\Temp\\\\BOJ.exe'"
   ]
  },
  {
   "cell_type": "code",
   "execution_count": null,
   "metadata": {},
   "outputs": [],
   "source": [
    "build_command = f'g++ \"{source_path}\" -o \"{build_path}\" -O2 -Wall -lm -std=gnu++17'\n",
    "backup_command = {\n",
    "    'source': f'''echo F | xcopy \"{source_path}\" \"{backup_path['source']}\" /Y''',\n",
    "    'build': f'''echo F | xcopy \"{build_path}\" \"{backup_path['build']}\" /Y''',\n",
    "}"
   ]
  },
  {
   "cell_type": "markdown",
   "metadata": {},
   "source": [
    "<!-- margin -->"
   ]
  },
  {
   "cell_type": "code",
   "execution_count": null,
   "metadata": {},
   "outputs": [],
   "source": [
    "response = requests.get(problem_url)\n",
    "\n",
    "if response.status_code == 200:\n",
    "    html = response.text\n",
    "    soup = BeautifulSoup(html, 'html.parser')\n",
    "else:\n",
    "    raise Exception(f'status code: {response.status_code}')\n",
    "\n",
    "sample_inputs = soup.select('pre[id^=\"sample-input-\"]')\n",
    "sample_outputs = soup.select('pre[id^=\"sample-output-\"]')\n",
    "\n",
    "time_limit = float(soup.select('#problem-info td:nth-child(1)')[0].text.split()[0])\n",
    "memory_limit = float(soup.select('#problem-info td:nth-child(2)')[0].text.split()[0])"
   ]
  },
  {
   "cell_type": "code",
   "execution_count": null,
   "metadata": {},
   "outputs": [],
   "source": [
    "if os.system(build_command):\n",
    "    raise Exception(f'compile error')"
   ]
  },
  {
   "cell_type": "code",
   "execution_count": null,
   "metadata": {
    "scrolled": true
   },
   "outputs": [],
   "source": [
    "result = pd.DataFrame(columns=['정오', '출력', '정답', '시간'])\n",
    "\n",
    "for sample_input, sample_output in zip(sample_inputs, sample_outputs):\n",
    "    process = subprocess.Popen([build_path], stdin=subprocess.PIPE, stdout=subprocess.PIPE, stderr=subprocess.PIPE)\n",
    "\n",
    "    time.sleep(1e-2)\n",
    "\n",
    "    start_time = time.time()\n",
    "    output, error = process.communicate(sample_input.text.encode(), timeout=time_limit)\n",
    "    end_time = time.time()\n",
    "\n",
    "    output = output.decode().replace('\\r\\n', '\\n').rstrip('\\n')\n",
    "    sample_output = sample_output.text.replace('\\r\\n', '\\n').rstrip('\\n')\n",
    "    corrected = output == sample_output\n",
    "    elapsed_time = (end_time - start_time) * 1000\n",
    "\n",
    "    result = result.append({\n",
    "        '정오': corrected,\n",
    "        '출력': output,\n",
    "        '정답': sample_output,\n",
    "        '시간': elapsed_time,\n",
    "    }, ignore_index=True)\n",
    "\n",
    "accuracy = result['정오'].mean() * 100\n",
    "mean_time = result['시간'].mean()\n",
    "\n",
    "result['정오'] = result['정오'].apply(lambda x : ('❌', '✔️')[x])\n",
    "result['시간'] = result['시간'].apply(lambda x : f'{x:.1f}ms')\n",
    "\n",
    "result = result.append({\n",
    "    '정오': f'{accuracy:.1f}%',\n",
    "    '출력': '-',\n",
    "    '정답': '-',\n",
    "    '시간': f'{mean_time:.1f}ms',\n",
    "}, ignore_index=True)"
   ]
  },
  {
   "cell_type": "markdown",
   "metadata": {},
   "source": [
    "<!-- margin -->"
   ]
  },
  {
   "cell_type": "code",
   "execution_count": null,
   "metadata": {},
   "outputs": [],
   "source": [
    "if accuracy == 100:\n",
    "    if copy_source:\n",
    "        pyperclip.copy(open(source_path).read())\n",
    "\n",
    "    if automatic_backup:\n",
    "        os.system(backup_command['source'])\n",
    "        os.system(backup_command['build'])"
   ]
  },
  {
   "cell_type": "code",
   "execution_count": null,
   "metadata": {
    "scrolled": true
   },
   "outputs": [],
   "source": [
    "table = result.to_html().replace('\\\\n','<br>')\n",
    "style = open('table.css').read()\n",
    "html = f'<style>{style}</style> {table}'\n",
    "display(HTML(html))\n",
    "\n",
    "if accuracy == 100:\n",
    "    button = widgets.Button(description='제출 페이지 열기', button_style='success')\n",
    "    button.on_click(lambda x : webbrowser.open(submit_url))\n",
    "    display(button)"
   ]
  },
  {
   "cell_type": "markdown",
   "metadata": {},
   "source": [
    "<!-- margin -->"
   ]
  }
 ],
 "metadata": {
  "kernelspec": {
   "display_name": "Python 3",
   "language": "python",
   "name": "python3"
  },
  "language_info": {
   "codemirror_mode": {
    "name": "ipython",
    "version": 3
   },
   "file_extension": ".py",
   "mimetype": "text/x-python",
   "name": "python",
   "nbconvert_exporter": "python",
   "pygments_lexer": "ipython3",
   "version": "3.8.5"
  }
 },
 "nbformat": 4,
 "nbformat_minor": 4
}
